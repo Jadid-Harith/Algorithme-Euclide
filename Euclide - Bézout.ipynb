{
 "cells": [
  {
   "cell_type": "code",
   "execution_count": 21,
   "metadata": {},
   "outputs": [
    {
     "name": "stdout",
     "output_type": "stream",
     "text": [
      "10\n"
     ]
    }
   ],
   "source": [
    "def Euclide(a,b):\n",
    "    if abs(a)>abs(b):\n",
    "        r0,r1=a,b\n",
    "    else :\n",
    "        r0,r1=b,a\n",
    "    while r1 !=0 :\n",
    "        r0,r1=r1,r0%r1\n",
    "    return r0\n",
    "print(Euclide(50,20))"
   ]
  },
  {
   "cell_type": "code",
   "execution_count": 22,
   "metadata": {},
   "outputs": [
    {
     "name": "stdout",
     "output_type": "stream",
     "text": [
      "Bezout( 40 , 72 ) #PGCD: 8 (u = -1 )* 72 + (v = 2 )* 40 = 8\n"
     ]
    }
   ],
   "source": [
    "def Bézout(a,b):\n",
    "    if abs(a)>abs(b):\n",
    "        r0,r1=a,b\n",
    "    else :\n",
    "        r0,r1=b,a\n",
    "    vi,ui,v1,u1 = 1,0,0,1\n",
    "    while r1 !=0 :\n",
    "        q=r0//r1\n",
    "        r0,r1=r1,r0%r1\n",
    "        vi,ui,v1,u1=v1,u1,vi-q*v1,ui-q*u1\n",
    "    print(\"Bezout(\",a,\",\",b,\")\",\"#PGCD:\",r0,\"(u =\",vi,\")*\",b,\"+\",\"(v =\",ui,\")*\",a,\"=\",r0)\n",
    "print(Bézout(40,72))"
   ]
  }
 ],
 "metadata": {
  "kernelspec": {
   "display_name": "Python 3",
   "language": "python",
   "name": "python3"
  },
  "language_info": {
   "codemirror_mode": {
    "name": "ipython",
    "version": 3
   },
   "file_extension": ".py",
   "mimetype": "text/x-python",
   "name": "python",
   "nbconvert_exporter": "python",
   "pygments_lexer": "ipython3",
   "version": "3.7.4"
  }
 },
 "nbformat": 4,
 "nbformat_minor": 2
}
